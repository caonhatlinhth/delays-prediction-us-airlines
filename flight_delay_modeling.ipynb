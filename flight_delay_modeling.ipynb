{
 "cells": [
  {
   "cell_type": "code",
   "execution_count": 1,
   "metadata": {},
   "outputs": [],
   "source": [
    "import random\n",
    "import pandas as pd\n",
    "import matplotlib.pyplot as plt\n",
    "import seaborn as sns\n",
    "import numpy as np\n",
    "import xgboost as xgb\n",
    "from sklearn.preprocessing import StandardScaler, OneHotEncoder, LabelEncoder\n",
    "from sklearn.compose import ColumnTransformer\n",
    "from sklearn.pipeline import Pipeline\n",
    "from sklearn.decomposition import PCA\n",
    "from sklearn.model_selection import train_test_split\n",
    "from sklearn.metrics import confusion_matrix\n",
    "from sklearn.ensemble import RandomForestClassifier, AdaBoostClassifier, GradientBoostingClassifier\n",
    "from sklearn.tree import DecisionTreeClassifier\n",
    "from sklearn.neighbors import KNeighborsClassifier\n",
    "from sklearn.neural_network import MLPClassifier\n",
    "from sklearn.svm import SVC\n",
    "\n",
    "from sklearn.metrics import accuracy_score, roc_auc_score\n",
    "from imblearn.over_sampling import SMOTE\n",
    "from sklearn.utils import shuffle\n",
    "from sklearn.utils.random import sample_without_replacement"
   ]
  },
  {
   "cell_type": "markdown",
   "metadata": {},
   "source": [
    "## Read the dataset"
   ]
  },
  {
   "cell_type": "code",
   "execution_count": 2,
   "metadata": {},
   "outputs": [],
   "source": [
    "df_delay = pd.read_csv('combined_data_mkt.csv')"
   ]
  },
  {
   "cell_type": "code",
   "execution_count": 3,
   "metadata": {},
   "outputs": [
    {
     "data": {
      "text/html": [
       "<div>\n",
       "<style scoped>\n",
       "    .dataframe tbody tr th:only-of-type {\n",
       "        vertical-align: middle;\n",
       "    }\n",
       "\n",
       "    .dataframe tbody tr th {\n",
       "        vertical-align: top;\n",
       "    }\n",
       "\n",
       "    .dataframe thead th {\n",
       "        text-align: right;\n",
       "    }\n",
       "</style>\n",
       "<table border=\"1\" class=\"dataframe\">\n",
       "  <thead>\n",
       "    <tr style=\"text-align: right;\">\n",
       "      <th></th>\n",
       "      <th>Year</th>\n",
       "      <th>Month</th>\n",
       "      <th>DayOfWeek</th>\n",
       "      <th>Operating_Airline</th>\n",
       "      <th>Tail_Number</th>\n",
       "      <th>Origin</th>\n",
       "      <th>OriginState</th>\n",
       "      <th>Dest</th>\n",
       "      <th>DestState</th>\n",
       "      <th>DepDelayMinutes</th>\n",
       "      <th>...</th>\n",
       "      <th>TaxiIn</th>\n",
       "      <th>ArrDel15</th>\n",
       "      <th>ArrDelayMinutes</th>\n",
       "      <th>ArrTimeBlk</th>\n",
       "      <th>Distance</th>\n",
       "      <th>CarrierDelay</th>\n",
       "      <th>WeatherDelay</th>\n",
       "      <th>NASDelay</th>\n",
       "      <th>SecurityDelay</th>\n",
       "      <th>DistanceGroup</th>\n",
       "    </tr>\n",
       "  </thead>\n",
       "  <tbody>\n",
       "    <tr>\n",
       "      <th>0</th>\n",
       "      <td>2018</td>\n",
       "      <td>10</td>\n",
       "      <td>1</td>\n",
       "      <td>9E</td>\n",
       "      <td>N8694A</td>\n",
       "      <td>ATL</td>\n",
       "      <td>GA</td>\n",
       "      <td>EWN</td>\n",
       "      <td>NC</td>\n",
       "      <td>0.0</td>\n",
       "      <td>...</td>\n",
       "      <td>3.0</td>\n",
       "      <td>0.0</td>\n",
       "      <td>2.0</td>\n",
       "      <td>2100-2159</td>\n",
       "      <td>433.0</td>\n",
       "      <td>NaN</td>\n",
       "      <td>NaN</td>\n",
       "      <td>NaN</td>\n",
       "      <td>NaN</td>\n",
       "      <td>2.0</td>\n",
       "    </tr>\n",
       "    <tr>\n",
       "      <th>1</th>\n",
       "      <td>2018</td>\n",
       "      <td>10</td>\n",
       "      <td>2</td>\n",
       "      <td>9E</td>\n",
       "      <td>N834AY</td>\n",
       "      <td>ATL</td>\n",
       "      <td>GA</td>\n",
       "      <td>EWN</td>\n",
       "      <td>NC</td>\n",
       "      <td>64.0</td>\n",
       "      <td>...</td>\n",
       "      <td>3.0</td>\n",
       "      <td>1.0</td>\n",
       "      <td>69.0</td>\n",
       "      <td>2100-2159</td>\n",
       "      <td>433.0</td>\n",
       "      <td>23.0</td>\n",
       "      <td>0.0</td>\n",
       "      <td>5.0</td>\n",
       "      <td>0.0</td>\n",
       "      <td>2.0</td>\n",
       "    </tr>\n",
       "    <tr>\n",
       "      <th>2</th>\n",
       "      <td>2018</td>\n",
       "      <td>10</td>\n",
       "      <td>3</td>\n",
       "      <td>9E</td>\n",
       "      <td>N8688C</td>\n",
       "      <td>ATL</td>\n",
       "      <td>GA</td>\n",
       "      <td>EWN</td>\n",
       "      <td>NC</td>\n",
       "      <td>0.0</td>\n",
       "      <td>...</td>\n",
       "      <td>6.0</td>\n",
       "      <td>0.0</td>\n",
       "      <td>6.0</td>\n",
       "      <td>2100-2159</td>\n",
       "      <td>433.0</td>\n",
       "      <td>NaN</td>\n",
       "      <td>NaN</td>\n",
       "      <td>NaN</td>\n",
       "      <td>NaN</td>\n",
       "      <td>2.0</td>\n",
       "    </tr>\n",
       "    <tr>\n",
       "      <th>3</th>\n",
       "      <td>2018</td>\n",
       "      <td>10</td>\n",
       "      <td>4</td>\n",
       "      <td>9E</td>\n",
       "      <td>N833AY</td>\n",
       "      <td>ATL</td>\n",
       "      <td>GA</td>\n",
       "      <td>EWN</td>\n",
       "      <td>NC</td>\n",
       "      <td>2.0</td>\n",
       "      <td>...</td>\n",
       "      <td>3.0</td>\n",
       "      <td>0.0</td>\n",
       "      <td>13.0</td>\n",
       "      <td>2100-2159</td>\n",
       "      <td>433.0</td>\n",
       "      <td>NaN</td>\n",
       "      <td>NaN</td>\n",
       "      <td>NaN</td>\n",
       "      <td>NaN</td>\n",
       "      <td>2.0</td>\n",
       "    </tr>\n",
       "    <tr>\n",
       "      <th>4</th>\n",
       "      <td>2018</td>\n",
       "      <td>10</td>\n",
       "      <td>5</td>\n",
       "      <td>9E</td>\n",
       "      <td>N980EV</td>\n",
       "      <td>ATL</td>\n",
       "      <td>GA</td>\n",
       "      <td>EWN</td>\n",
       "      <td>NC</td>\n",
       "      <td>0.0</td>\n",
       "      <td>...</td>\n",
       "      <td>2.0</td>\n",
       "      <td>0.0</td>\n",
       "      <td>0.0</td>\n",
       "      <td>2100-2159</td>\n",
       "      <td>433.0</td>\n",
       "      <td>NaN</td>\n",
       "      <td>NaN</td>\n",
       "      <td>NaN</td>\n",
       "      <td>NaN</td>\n",
       "      <td>2.0</td>\n",
       "    </tr>\n",
       "    <tr>\n",
       "      <th>...</th>\n",
       "      <td>...</td>\n",
       "      <td>...</td>\n",
       "      <td>...</td>\n",
       "      <td>...</td>\n",
       "      <td>...</td>\n",
       "      <td>...</td>\n",
       "      <td>...</td>\n",
       "      <td>...</td>\n",
       "      <td>...</td>\n",
       "      <td>...</td>\n",
       "      <td>...</td>\n",
       "      <td>...</td>\n",
       "      <td>...</td>\n",
       "      <td>...</td>\n",
       "      <td>...</td>\n",
       "      <td>...</td>\n",
       "      <td>...</td>\n",
       "      <td>...</td>\n",
       "      <td>...</td>\n",
       "      <td>...</td>\n",
       "      <td>...</td>\n",
       "    </tr>\n",
       "    <tr>\n",
       "      <th>7886168</th>\n",
       "      <td>2023</td>\n",
       "      <td>4</td>\n",
       "      <td>3</td>\n",
       "      <td>OH</td>\n",
       "      <td>N562NN</td>\n",
       "      <td>BTR</td>\n",
       "      <td>LA</td>\n",
       "      <td>CLT</td>\n",
       "      <td>NC</td>\n",
       "      <td>36.0</td>\n",
       "      <td>...</td>\n",
       "      <td>17.0</td>\n",
       "      <td>1.0</td>\n",
       "      <td>30.0</td>\n",
       "      <td>1000-1059</td>\n",
       "      <td>675.0</td>\n",
       "      <td>30.0</td>\n",
       "      <td>0.0</td>\n",
       "      <td>0.0</td>\n",
       "      <td>0.0</td>\n",
       "      <td>3.0</td>\n",
       "    </tr>\n",
       "    <tr>\n",
       "      <th>7886169</th>\n",
       "      <td>2023</td>\n",
       "      <td>4</td>\n",
       "      <td>4</td>\n",
       "      <td>OH</td>\n",
       "      <td>N597NN</td>\n",
       "      <td>BTR</td>\n",
       "      <td>LA</td>\n",
       "      <td>CLT</td>\n",
       "      <td>NC</td>\n",
       "      <td>0.0</td>\n",
       "      <td>...</td>\n",
       "      <td>14.0</td>\n",
       "      <td>0.0</td>\n",
       "      <td>8.0</td>\n",
       "      <td>1000-1059</td>\n",
       "      <td>675.0</td>\n",
       "      <td>NaN</td>\n",
       "      <td>NaN</td>\n",
       "      <td>NaN</td>\n",
       "      <td>NaN</td>\n",
       "      <td>3.0</td>\n",
       "    </tr>\n",
       "    <tr>\n",
       "      <th>7886170</th>\n",
       "      <td>2023</td>\n",
       "      <td>4</td>\n",
       "      <td>5</td>\n",
       "      <td>OH</td>\n",
       "      <td>N550NN</td>\n",
       "      <td>BTR</td>\n",
       "      <td>LA</td>\n",
       "      <td>CLT</td>\n",
       "      <td>NC</td>\n",
       "      <td>0.0</td>\n",
       "      <td>...</td>\n",
       "      <td>16.0</td>\n",
       "      <td>0.0</td>\n",
       "      <td>0.0</td>\n",
       "      <td>1000-1059</td>\n",
       "      <td>675.0</td>\n",
       "      <td>NaN</td>\n",
       "      <td>NaN</td>\n",
       "      <td>NaN</td>\n",
       "      <td>NaN</td>\n",
       "      <td>3.0</td>\n",
       "    </tr>\n",
       "    <tr>\n",
       "      <th>7886171</th>\n",
       "      <td>2023</td>\n",
       "      <td>4</td>\n",
       "      <td>6</td>\n",
       "      <td>OH</td>\n",
       "      <td>N588NN</td>\n",
       "      <td>BTR</td>\n",
       "      <td>LA</td>\n",
       "      <td>CLT</td>\n",
       "      <td>NC</td>\n",
       "      <td>0.0</td>\n",
       "      <td>...</td>\n",
       "      <td>22.0</td>\n",
       "      <td>0.0</td>\n",
       "      <td>0.0</td>\n",
       "      <td>1000-1059</td>\n",
       "      <td>675.0</td>\n",
       "      <td>NaN</td>\n",
       "      <td>NaN</td>\n",
       "      <td>NaN</td>\n",
       "      <td>NaN</td>\n",
       "      <td>3.0</td>\n",
       "    </tr>\n",
       "    <tr>\n",
       "      <th>7886172</th>\n",
       "      <td>2023</td>\n",
       "      <td>4</td>\n",
       "      <td>7</td>\n",
       "      <td>OH</td>\n",
       "      <td>N595NN</td>\n",
       "      <td>BTR</td>\n",
       "      <td>LA</td>\n",
       "      <td>CLT</td>\n",
       "      <td>NC</td>\n",
       "      <td>0.0</td>\n",
       "      <td>...</td>\n",
       "      <td>18.0</td>\n",
       "      <td>0.0</td>\n",
       "      <td>14.0</td>\n",
       "      <td>1000-1059</td>\n",
       "      <td>675.0</td>\n",
       "      <td>NaN</td>\n",
       "      <td>NaN</td>\n",
       "      <td>NaN</td>\n",
       "      <td>NaN</td>\n",
       "      <td>3.0</td>\n",
       "    </tr>\n",
       "  </tbody>\n",
       "</table>\n",
       "<p>7886173 rows × 25 columns</p>\n",
       "</div>"
      ],
      "text/plain": [
       "         Year  Month  DayOfWeek Operating_Airline Tail_Number Origin  \\\n",
       "0        2018     10          1                9E      N8694A    ATL   \n",
       "1        2018     10          2                9E      N834AY    ATL   \n",
       "2        2018     10          3                9E      N8688C    ATL   \n",
       "3        2018     10          4                9E      N833AY    ATL   \n",
       "4        2018     10          5                9E      N980EV    ATL   \n",
       "...       ...    ...        ...               ...         ...    ...   \n",
       "7886168  2023      4          3                OH      N562NN    BTR   \n",
       "7886169  2023      4          4                OH      N597NN    BTR   \n",
       "7886170  2023      4          5                OH      N550NN    BTR   \n",
       "7886171  2023      4          6                OH      N588NN    BTR   \n",
       "7886172  2023      4          7                OH      N595NN    BTR   \n",
       "\n",
       "        OriginState Dest DestState  DepDelayMinutes  ...  TaxiIn ArrDel15  \\\n",
       "0                GA  EWN        NC              0.0  ...     3.0      0.0   \n",
       "1                GA  EWN        NC             64.0  ...     3.0      1.0   \n",
       "2                GA  EWN        NC              0.0  ...     6.0      0.0   \n",
       "3                GA  EWN        NC              2.0  ...     3.0      0.0   \n",
       "4                GA  EWN        NC              0.0  ...     2.0      0.0   \n",
       "...             ...  ...       ...              ...  ...     ...      ...   \n",
       "7886168          LA  CLT        NC             36.0  ...    17.0      1.0   \n",
       "7886169          LA  CLT        NC              0.0  ...    14.0      0.0   \n",
       "7886170          LA  CLT        NC              0.0  ...    16.0      0.0   \n",
       "7886171          LA  CLT        NC              0.0  ...    22.0      0.0   \n",
       "7886172          LA  CLT        NC              0.0  ...    18.0      0.0   \n",
       "\n",
       "         ArrDelayMinutes  ArrTimeBlk  Distance  CarrierDelay  WeatherDelay  \\\n",
       "0                    2.0   2100-2159     433.0           NaN           NaN   \n",
       "1                   69.0   2100-2159     433.0          23.0           0.0   \n",
       "2                    6.0   2100-2159     433.0           NaN           NaN   \n",
       "3                   13.0   2100-2159     433.0           NaN           NaN   \n",
       "4                    0.0   2100-2159     433.0           NaN           NaN   \n",
       "...                  ...         ...       ...           ...           ...   \n",
       "7886168             30.0   1000-1059     675.0          30.0           0.0   \n",
       "7886169              8.0   1000-1059     675.0           NaN           NaN   \n",
       "7886170              0.0   1000-1059     675.0           NaN           NaN   \n",
       "7886171              0.0   1000-1059     675.0           NaN           NaN   \n",
       "7886172             14.0   1000-1059     675.0           NaN           NaN   \n",
       "\n",
       "         NASDelay SecurityDelay  DistanceGroup  \n",
       "0             NaN           NaN            2.0  \n",
       "1             5.0           0.0            2.0  \n",
       "2             NaN           NaN            2.0  \n",
       "3             NaN           NaN            2.0  \n",
       "4             NaN           NaN            2.0  \n",
       "...           ...           ...            ...  \n",
       "7886168       0.0           0.0            3.0  \n",
       "7886169       NaN           NaN            3.0  \n",
       "7886170       NaN           NaN            3.0  \n",
       "7886171       NaN           NaN            3.0  \n",
       "7886172       NaN           NaN            3.0  \n",
       "\n",
       "[7886173 rows x 25 columns]"
      ]
     },
     "execution_count": 3,
     "metadata": {},
     "output_type": "execute_result"
    }
   ],
   "source": [
    "df_delay"
   ]
  },
  {
   "cell_type": "code",
   "execution_count": 4,
   "metadata": {},
   "outputs": [],
   "source": [
    "df_delay['DistanceGroup'] = df_delay['DistanceGroup'].astype(str)"
   ]
  },
  {
   "cell_type": "code",
   "execution_count": 5,
   "metadata": {},
   "outputs": [],
   "source": [
    "month_mapping = {\n",
    "    1: 'Jan', 2: 'Feb', 3: 'Mar', 4: 'Apr', 5: 'May', 6: 'Jun',\n",
    "    7: 'Jul', 8: 'Aug', 9: 'Sept', 10: 'Oct', 11: 'Nov', 12: 'Dec'\n",
    "}"
   ]
  },
  {
   "cell_type": "code",
   "execution_count": 6,
   "metadata": {},
   "outputs": [],
   "source": [
    "day_mapping = {\n",
    "    1: 'Mon', 2: 'Tue', 3: 'Wed', 4: 'Thu', 5: 'Fri', 6: 'Sat', 7: 'Sun'\n",
    "}"
   ]
  },
  {
   "cell_type": "code",
   "execution_count": 7,
   "metadata": {},
   "outputs": [],
   "source": [
    "# Apply mappings to Month and DayOfWeek columns\n",
    "df_delay['Month'] = df_delay['Month'].map(month_mapping)\n",
    "df_delay['DayOfWeek'] = df_delay['DayOfWeek'].map(day_mapping)"
   ]
  },
  {
   "cell_type": "code",
   "execution_count": 8,
   "metadata": {},
   "outputs": [],
   "source": [
    "df_delay.drop(columns = [\"CarrierDelay\", \"DistanceGroup\", \"WeatherDelay\", \"DepDel15\",\"NASDelay\", \n",
    "                         \"WheelsOn\", \"SecurityDelay\", \"ArrDelayMinutes\", \"OriginState\", \"DestState\", \n",
    "                         \"Tail_Number\", \"OriginState\", \"Origin\", \"Dest\", \"Year\"], inplace=True)"
   ]
  },
  {
   "cell_type": "markdown",
   "metadata": {},
   "source": [
    "**Clean the dataset**"
   ]
  },
  {
   "cell_type": "code",
   "execution_count": 9,
   "metadata": {},
   "outputs": [
    {
     "data": {
      "text/plain": [
       "Month                     0\n",
       "DayOfWeek                 0\n",
       "Operating_Airline         0\n",
       "DepDelayMinutes      175083\n",
       "DepTimeBlk                0\n",
       "TaxiOut              179313\n",
       "WheelsOff            179313\n",
       "TaxiIn               183844\n",
       "ArrDel15             199673\n",
       "ArrTimeBlk                0\n",
       "Distance                  0\n",
       "dtype: int64"
      ]
     },
     "execution_count": 9,
     "metadata": {},
     "output_type": "execute_result"
    }
   ],
   "source": [
    "null_values = df_delay.isnull().sum()\n",
    "null_values"
   ]
  },
  {
   "cell_type": "code",
   "execution_count": 10,
   "metadata": {},
   "outputs": [],
   "source": [
    "mean_dep_delay = df_delay['DepDelayMinutes'].mean()\n",
    "median_taxi_out = df_delay['TaxiOut'].median()\n",
    "median_taxi_in = df_delay['TaxiIn'].median()\n",
    "median_wheels_off = df_delay['WheelsOff'].median()"
   ]
  },
  {
   "cell_type": "code",
   "execution_count": 11,
   "metadata": {},
   "outputs": [],
   "source": [
    "df_input = df_delay.fillna({'DepDelayMinutes': mean_dep_delay, 'TaxiOut': median_taxi_out, 'TaxiIn': median_taxi_in, 'WheelsOff': median_wheels_off})"
   ]
  },
  {
   "cell_type": "code",
   "execution_count": 12,
   "metadata": {},
   "outputs": [],
   "source": [
    "df = df_input.dropna(subset=['ArrDel15'])"
   ]
  },
  {
   "cell_type": "code",
   "execution_count": 13,
   "metadata": {},
   "outputs": [],
   "source": [
    "df.reset_index(drop=True, inplace=True)"
   ]
  },
  {
   "cell_type": "code",
   "execution_count": 14,
   "metadata": {},
   "outputs": [
    {
     "data": {
      "text/html": [
       "<div>\n",
       "<style scoped>\n",
       "    .dataframe tbody tr th:only-of-type {\n",
       "        vertical-align: middle;\n",
       "    }\n",
       "\n",
       "    .dataframe tbody tr th {\n",
       "        vertical-align: top;\n",
       "    }\n",
       "\n",
       "    .dataframe thead th {\n",
       "        text-align: right;\n",
       "    }\n",
       "</style>\n",
       "<table border=\"1\" class=\"dataframe\">\n",
       "  <thead>\n",
       "    <tr style=\"text-align: right;\">\n",
       "      <th></th>\n",
       "      <th>Month</th>\n",
       "      <th>DayOfWeek</th>\n",
       "      <th>Operating_Airline</th>\n",
       "      <th>DepDelayMinutes</th>\n",
       "      <th>DepTimeBlk</th>\n",
       "      <th>TaxiOut</th>\n",
       "      <th>WheelsOff</th>\n",
       "      <th>TaxiIn</th>\n",
       "      <th>ArrDel15</th>\n",
       "      <th>ArrTimeBlk</th>\n",
       "      <th>Distance</th>\n",
       "    </tr>\n",
       "  </thead>\n",
       "  <tbody>\n",
       "    <tr>\n",
       "      <th>0</th>\n",
       "      <td>Oct</td>\n",
       "      <td>Mon</td>\n",
       "      <td>9E</td>\n",
       "      <td>0.0</td>\n",
       "      <td>1900-1959</td>\n",
       "      <td>30.0</td>\n",
       "      <td>2023.0</td>\n",
       "      <td>3.0</td>\n",
       "      <td>0.0</td>\n",
       "      <td>2100-2159</td>\n",
       "      <td>433.0</td>\n",
       "    </tr>\n",
       "    <tr>\n",
       "      <th>1</th>\n",
       "      <td>Oct</td>\n",
       "      <td>Tue</td>\n",
       "      <td>9E</td>\n",
       "      <td>64.0</td>\n",
       "      <td>1900-1959</td>\n",
       "      <td>30.0</td>\n",
       "      <td>2131.0</td>\n",
       "      <td>3.0</td>\n",
       "      <td>1.0</td>\n",
       "      <td>2100-2159</td>\n",
       "      <td>433.0</td>\n",
       "    </tr>\n",
       "    <tr>\n",
       "      <th>2</th>\n",
       "      <td>Oct</td>\n",
       "      <td>Wed</td>\n",
       "      <td>9E</td>\n",
       "      <td>0.0</td>\n",
       "      <td>1900-1959</td>\n",
       "      <td>28.0</td>\n",
       "      <td>2022.0</td>\n",
       "      <td>6.0</td>\n",
       "      <td>0.0</td>\n",
       "      <td>2100-2159</td>\n",
       "      <td>433.0</td>\n",
       "    </tr>\n",
       "    <tr>\n",
       "      <th>3</th>\n",
       "      <td>Oct</td>\n",
       "      <td>Thu</td>\n",
       "      <td>9E</td>\n",
       "      <td>2.0</td>\n",
       "      <td>1900-1959</td>\n",
       "      <td>28.0</td>\n",
       "      <td>2027.0</td>\n",
       "      <td>3.0</td>\n",
       "      <td>0.0</td>\n",
       "      <td>2100-2159</td>\n",
       "      <td>433.0</td>\n",
       "    </tr>\n",
       "    <tr>\n",
       "      <th>4</th>\n",
       "      <td>Oct</td>\n",
       "      <td>Fri</td>\n",
       "      <td>9E</td>\n",
       "      <td>0.0</td>\n",
       "      <td>1900-1959</td>\n",
       "      <td>22.0</td>\n",
       "      <td>2016.0</td>\n",
       "      <td>2.0</td>\n",
       "      <td>0.0</td>\n",
       "      <td>2100-2159</td>\n",
       "      <td>433.0</td>\n",
       "    </tr>\n",
       "    <tr>\n",
       "      <th>...</th>\n",
       "      <td>...</td>\n",
       "      <td>...</td>\n",
       "      <td>...</td>\n",
       "      <td>...</td>\n",
       "      <td>...</td>\n",
       "      <td>...</td>\n",
       "      <td>...</td>\n",
       "      <td>...</td>\n",
       "      <td>...</td>\n",
       "      <td>...</td>\n",
       "      <td>...</td>\n",
       "    </tr>\n",
       "    <tr>\n",
       "      <th>7686495</th>\n",
       "      <td>Apr</td>\n",
       "      <td>Wed</td>\n",
       "      <td>OH</td>\n",
       "      <td>36.0</td>\n",
       "      <td>0700-0759</td>\n",
       "      <td>10.0</td>\n",
       "      <td>746.0</td>\n",
       "      <td>17.0</td>\n",
       "      <td>1.0</td>\n",
       "      <td>1000-1059</td>\n",
       "      <td>675.0</td>\n",
       "    </tr>\n",
       "    <tr>\n",
       "      <th>7686496</th>\n",
       "      <td>Apr</td>\n",
       "      <td>Thu</td>\n",
       "      <td>OH</td>\n",
       "      <td>0.0</td>\n",
       "      <td>0700-0759</td>\n",
       "      <td>20.0</td>\n",
       "      <td>710.0</td>\n",
       "      <td>14.0</td>\n",
       "      <td>0.0</td>\n",
       "      <td>1000-1059</td>\n",
       "      <td>675.0</td>\n",
       "    </tr>\n",
       "    <tr>\n",
       "      <th>7686497</th>\n",
       "      <td>Apr</td>\n",
       "      <td>Fri</td>\n",
       "      <td>OH</td>\n",
       "      <td>0.0</td>\n",
       "      <td>0700-0759</td>\n",
       "      <td>12.0</td>\n",
       "      <td>659.0</td>\n",
       "      <td>16.0</td>\n",
       "      <td>0.0</td>\n",
       "      <td>1000-1059</td>\n",
       "      <td>675.0</td>\n",
       "    </tr>\n",
       "    <tr>\n",
       "      <th>7686498</th>\n",
       "      <td>Apr</td>\n",
       "      <td>Sat</td>\n",
       "      <td>OH</td>\n",
       "      <td>0.0</td>\n",
       "      <td>0700-0759</td>\n",
       "      <td>11.0</td>\n",
       "      <td>702.0</td>\n",
       "      <td>22.0</td>\n",
       "      <td>0.0</td>\n",
       "      <td>1000-1059</td>\n",
       "      <td>675.0</td>\n",
       "    </tr>\n",
       "    <tr>\n",
       "      <th>7686499</th>\n",
       "      <td>Apr</td>\n",
       "      <td>Sun</td>\n",
       "      <td>OH</td>\n",
       "      <td>0.0</td>\n",
       "      <td>0700-0759</td>\n",
       "      <td>10.0</td>\n",
       "      <td>706.0</td>\n",
       "      <td>18.0</td>\n",
       "      <td>0.0</td>\n",
       "      <td>1000-1059</td>\n",
       "      <td>675.0</td>\n",
       "    </tr>\n",
       "  </tbody>\n",
       "</table>\n",
       "<p>7686500 rows × 11 columns</p>\n",
       "</div>"
      ],
      "text/plain": [
       "        Month DayOfWeek Operating_Airline  DepDelayMinutes DepTimeBlk  \\\n",
       "0         Oct       Mon                9E              0.0  1900-1959   \n",
       "1         Oct       Tue                9E             64.0  1900-1959   \n",
       "2         Oct       Wed                9E              0.0  1900-1959   \n",
       "3         Oct       Thu                9E              2.0  1900-1959   \n",
       "4         Oct       Fri                9E              0.0  1900-1959   \n",
       "...       ...       ...               ...              ...        ...   \n",
       "7686495   Apr       Wed                OH             36.0  0700-0759   \n",
       "7686496   Apr       Thu                OH              0.0  0700-0759   \n",
       "7686497   Apr       Fri                OH              0.0  0700-0759   \n",
       "7686498   Apr       Sat                OH              0.0  0700-0759   \n",
       "7686499   Apr       Sun                OH              0.0  0700-0759   \n",
       "\n",
       "         TaxiOut  WheelsOff  TaxiIn  ArrDel15 ArrTimeBlk  Distance  \n",
       "0           30.0     2023.0     3.0       0.0  2100-2159     433.0  \n",
       "1           30.0     2131.0     3.0       1.0  2100-2159     433.0  \n",
       "2           28.0     2022.0     6.0       0.0  2100-2159     433.0  \n",
       "3           28.0     2027.0     3.0       0.0  2100-2159     433.0  \n",
       "4           22.0     2016.0     2.0       0.0  2100-2159     433.0  \n",
       "...          ...        ...     ...       ...        ...       ...  \n",
       "7686495     10.0      746.0    17.0       1.0  1000-1059     675.0  \n",
       "7686496     20.0      710.0    14.0       0.0  1000-1059     675.0  \n",
       "7686497     12.0      659.0    16.0       0.0  1000-1059     675.0  \n",
       "7686498     11.0      702.0    22.0       0.0  1000-1059     675.0  \n",
       "7686499     10.0      706.0    18.0       0.0  1000-1059     675.0  \n",
       "\n",
       "[7686500 rows x 11 columns]"
      ]
     },
     "execution_count": 14,
     "metadata": {},
     "output_type": "execute_result"
    }
   ],
   "source": [
    "df"
   ]
  },
  {
   "cell_type": "markdown",
   "metadata": {},
   "source": [
    "## Prepare for modeling training"
   ]
  },
  {
   "cell_type": "code",
   "execution_count": 15,
   "metadata": {},
   "outputs": [
    {
     "name": "stderr",
     "output_type": "stream",
     "text": [
      "c:\\python37\\lib\\site-packages\\pandas\\core\\frame.py:4913: SettingWithCopyWarning: \n",
      "A value is trying to be set on a copy of a slice from a DataFrame\n",
      "\n",
      "See the caveats in the documentation: https://pandas.pydata.org/pandas-docs/stable/user_guide/indexing.html#returning-a-view-versus-a-copy\n",
      "  errors=errors,\n"
     ]
    }
   ],
   "source": [
    "Y = df[\"ArrDel15\"]\n",
    "df.drop(columns=[\"ArrDel15\"], inplace=True)"
   ]
  },
  {
   "cell_type": "code",
   "execution_count": 16,
   "metadata": {},
   "outputs": [],
   "source": [
    "X = df\n",
    "non_number_cols = [k for k in X.keys() if str(X[k].dtype) not in [\"int64\", \"float64\"]]\n",
    "\n",
    "number_cols = list(set(X.keys()) - set(non_number_cols))\n",
    "X_numeric = X[number_cols]\n",
    "X_non_numeric = pd.get_dummies(X[non_number_cols], drop_first=False)"
   ]
  },
  {
   "cell_type": "code",
   "execution_count": 17,
   "metadata": {},
   "outputs": [],
   "source": [
    "std_scaler = StandardScaler(copy=False)\n",
    "X_numeric_array = std_scaler.fit_transform(X_numeric)\n",
    "X_numeric = pd.DataFrame(X_numeric_array, columns=X_numeric.keys())"
   ]
  },
  {
   "cell_type": "code",
   "execution_count": 18,
   "metadata": {},
   "outputs": [],
   "source": [
    "X = pd.concat([X_numeric, X_non_numeric], axis=1)"
   ]
  },
  {
   "cell_type": "code",
   "execution_count": 19,
   "metadata": {},
   "outputs": [],
   "source": [
    "#split dataset into train and test sets\n",
    "idxs = list(range(0, len(X)))\n",
    "\n",
    "random_seed = 42\n",
    "test_size = 0.2\n",
    "\n",
    "train_idxs, test_idxs = train_test_split(idxs, test_size=0.2, random_state=42)"
   ]
  },
  {
   "cell_type": "code",
   "execution_count": 20,
   "metadata": {},
   "outputs": [],
   "source": [
    "X_train = X.iloc[train_idxs]\n",
    "X_test = X.iloc[test_idxs]\n",
    "\n",
    "Y_train = Y.iloc[train_idxs]\n",
    "Y_test = Y.iloc[test_idxs]"
   ]
  },
  {
   "cell_type": "code",
   "execution_count": 21,
   "metadata": {},
   "outputs": [
    {
     "data": {
      "text/plain": [
       "0.0    80.101916\n",
       "1.0    19.898084\n",
       "Name: ArrDel15, dtype: float64"
      ]
     },
     "execution_count": 21,
     "metadata": {},
     "output_type": "execute_result"
    }
   ],
   "source": [
    "Y_train_percentage = (Y_train.value_counts() / len(Y_train)) * 100\n",
    "Y_train_percentage"
   ]
  },
  {
   "cell_type": "code",
   "execution_count": 22,
   "metadata": {},
   "outputs": [
    {
     "data": {
      "text/plain": [
       "0.0    80.13966\n",
       "1.0    19.86034\n",
       "Name: ArrDel15, dtype: float64"
      ]
     },
     "execution_count": 22,
     "metadata": {},
     "output_type": "execute_result"
    }
   ],
   "source": [
    "Y_test_percentage = (Y_test.value_counts() / len(Y_test)) * 100\n",
    "Y_test_percentage"
   ]
  },
  {
   "cell_type": "markdown",
   "metadata": {},
   "source": [
    "**Over Resampling Minority Class**"
   ]
  },
  {
   "cell_type": "code",
   "execution_count": 23,
   "metadata": {},
   "outputs": [],
   "source": [
    "X_train_1, Y_train_1 = X_train[Y_train == 1], Y_train[Y_train == 1]\n",
    "X_train_0, Y_train_0 = X_train[Y_train == 0], Y_train[Y_train == 0]"
   ]
  },
  {
   "cell_type": "code",
   "execution_count": 24,
   "metadata": {},
   "outputs": [],
   "source": [
    "#over sample minority class with a specific ratio\n",
    "ratio_scaler = 4\n",
    "oversample_ratio = 3\n",
    "ratio = (ratio_scaler * len(X_train_1))/len(X_train_0)\n",
    "ratio = 0.999 if ratio > 1.0 else ratio"
   ]
  },
  {
   "cell_type": "code",
   "execution_count": 25,
   "metadata": {},
   "outputs": [],
   "source": [
    "X_train_0, _, Y_train_0, _ = train_test_split(X_train_0, Y_train_0, train_size=ratio)"
   ]
  },
  {
   "cell_type": "code",
   "execution_count": 26,
   "metadata": {},
   "outputs": [],
   "source": [
    "X_train = pd.concat([X_train_0] + [X_train_1] * oversample_ratio)\n",
    "Y_train = pd.concat([Y_train_0] + [Y_train_1] * oversample_ratio)"
   ]
  },
  {
   "cell_type": "code",
   "execution_count": 27,
   "metadata": {},
   "outputs": [],
   "source": [
    "X_train, Y_train = shuffle(X_train, Y_train, random_state=random_seed)"
   ]
  },
  {
   "cell_type": "code",
   "execution_count": 28,
   "metadata": {},
   "outputs": [
    {
     "data": {
      "text/plain": [
       "0.0    57.142857\n",
       "1.0    42.857143\n",
       "Name: ArrDel15, dtype: float64"
      ]
     },
     "execution_count": 28,
     "metadata": {},
     "output_type": "execute_result"
    }
   ],
   "source": [
    "Y_train_percentage = (Y_train.value_counts() / len(Y_train)) * 100\n",
    "Y_train_percentage"
   ]
  },
  {
   "cell_type": "markdown",
   "metadata": {},
   "source": [
    "## Data Modeling"
   ]
  },
  {
   "cell_type": "code",
   "execution_count": 44,
   "metadata": {},
   "outputs": [],
   "source": [
    "from sklearn.metrics import accuracy_score, precision_score, recall_score"
   ]
  },
  {
   "cell_type": "markdown",
   "metadata": {},
   "source": [
    "**1. Decision Tree**"
   ]
  },
  {
   "cell_type": "code",
   "execution_count": 29,
   "metadata": {},
   "outputs": [
    {
     "data": {
      "text/plain": [
       "DecisionTreeClassifier(random_state=0)"
      ]
     },
     "execution_count": 29,
     "metadata": {},
     "output_type": "execute_result"
    }
   ],
   "source": [
    "#DecisionTreeClassifier\n",
    "clf = DecisionTreeClassifier(random_state=0)\n",
    "clf.fit(X_train, Y_train)"
   ]
  },
  {
   "cell_type": "code",
   "execution_count": 46,
   "metadata": {},
   "outputs": [
    {
     "name": "stdout",
     "output_type": "stream",
     "text": [
      "Accuracy: 0.9999898423948317\n",
      "Precision: 0.9999762994830018\n",
      "Recall: 1.0\n"
     ]
    }
   ],
   "source": [
    "y_pred_train_clf = clf.predict(X_train)\n",
    "\n",
    "accuracy_clf = accuracy_score(Y_train, y_pred_train_clf)\n",
    "precision_clf = precision_score(Y_train, y_pred_train_clf)\n",
    "recall_clf = recall_score(Y_train, y_pred_train_clf)\n",
    "\n",
    "print(f\"Accuracy: {accuracy_clf}\")\n",
    "print(f\"Precision: {precision_clf}\")\n",
    "print(f\"Recall: {recall_clf}\")"
   ]
  },
  {
   "cell_type": "markdown",
   "metadata": {},
   "source": [
    "**2. AdaBoost**"
   ]
  },
  {
   "cell_type": "code",
   "execution_count": 30,
   "metadata": {},
   "outputs": [
    {
     "data": {
      "text/plain": [
       "AdaBoostClassifier(n_estimators=20, random_state=42)"
      ]
     },
     "execution_count": 30,
     "metadata": {},
     "output_type": "execute_result"
    }
   ],
   "source": [
    "ada = AdaBoostClassifier(n_estimators=20, random_state=random_seed)\n",
    "ada.fit(X_train, Y_train)"
   ]
  },
  {
   "cell_type": "code",
   "execution_count": 47,
   "metadata": {},
   "outputs": [
    {
     "name": "stdout",
     "output_type": "stream",
     "text": [
      "Accuracy: 0.9196019713226288\n",
      "Precision: 0.9089904668382847\n",
      "Recall: 0.9027937033589333\n"
     ]
    }
   ],
   "source": [
    "y_pred_train_ada = ada.predict(X_train)\n",
    "\n",
    "accuracy_ada = accuracy_score(Y_train, y_pred_train_ada)\n",
    "precision_ada = precision_score(Y_train, y_pred_train_ada)\n",
    "recall_ada = recall_score(Y_train, y_pred_train_ada)\n",
    "\n",
    "print(f\"Accuracy: {accuracy_ada}\")\n",
    "print(f\"Precision: {precision_ada}\")\n",
    "print(f\"Recall: {recall_ada}\")"
   ]
  },
  {
   "cell_type": "markdown",
   "metadata": {},
   "source": [
    "**3. Gradient Boosting**"
   ]
  },
  {
   "cell_type": "code",
   "execution_count": 31,
   "metadata": {},
   "outputs": [
    {
     "data": {
      "text/plain": [
       "GradientBoostingClassifier(n_estimators=20, n_iter_no_change=5, tol=0.01,\n",
       "                           validation_fraction=0.2)"
      ]
     },
     "execution_count": 31,
     "metadata": {},
     "output_type": "execute_result"
    }
   ],
   "source": [
    "#Gradient Boosting Classifier\n",
    "gb = GradientBoostingClassifier(n_estimators=20, max_depth=3, validation_fraction=0.2, n_iter_no_change=5, tol=0.01)\n",
    "gb.fit(X_train, Y_train)"
   ]
  },
  {
   "cell_type": "code",
   "execution_count": 50,
   "metadata": {},
   "outputs": [
    {
     "name": "stdout",
     "output_type": "stream",
     "text": [
      "Accuracy: 0.920252408315646\n",
      "Precision: 0.9295448062643197\n",
      "Recall: 0.8806732414003905\n"
     ]
    }
   ],
   "source": [
    "y_pred_train_gb = gb.predict(X_train)\n",
    "\n",
    "accuracy_gb = accuracy_score(Y_train, y_pred_train_gb)\n",
    "precision_gb = precision_score(Y_train, y_pred_train_gb)\n",
    "recall_gb = recall_score(Y_train, y_pred_train_gb)\n",
    "\n",
    "print(f\"Accuracy: {accuracy_gb}\")\n",
    "print(f\"Precision: {precision_gb}\")\n",
    "print(f\"Recall: {recall_gb}\")"
   ]
  },
  {
   "cell_type": "markdown",
   "metadata": {},
   "source": [
    "**4. Random forest**"
   ]
  },
  {
   "cell_type": "code",
   "execution_count": 32,
   "metadata": {},
   "outputs": [
    {
     "data": {
      "text/plain": [
       "RandomForestClassifier(n_estimators=20, random_state=42)"
      ]
     },
     "execution_count": 32,
     "metadata": {},
     "output_type": "execute_result"
    }
   ],
   "source": [
    "#random forest\n",
    "rf = RandomForestClassifier(n_estimators=20, random_state=random_seed)\n",
    "rf.fit(X_train, Y_train)"
   ]
  },
  {
   "cell_type": "code",
   "execution_count": 51,
   "metadata": {},
   "outputs": [
    {
     "name": "stdout",
     "output_type": "stream",
     "text": [
      "Accuracy: 0.9998667835919883\n",
      "Precision: 0.9996892583050552\n",
      "Recall: 1.0\n"
     ]
    }
   ],
   "source": [
    "y_pred_train_rf = rf.predict(X_train)\n",
    "\n",
    "accuracy_rf = accuracy_score(Y_train, y_pred_train_rf)\n",
    "precision_rf = precision_score(Y_train, y_pred_train_rf)\n",
    "recall_rf = recall_score(Y_train, y_pred_train_rf)\n",
    "\n",
    "print(f\"Accuracy: {accuracy_rf}\")\n",
    "print(f\"Precision: {precision_rf}\")\n",
    "print(f\"Recall: {recall_rf}\")"
   ]
  },
  {
   "cell_type": "markdown",
   "metadata": {},
   "source": [
    "**Train model evaluation**"
   ]
  },
  {
   "cell_type": "markdown",
   "metadata": {},
   "source": [
    "## Model Evaluation"
   ]
  },
  {
   "cell_type": "code",
   "execution_count": 33,
   "metadata": {},
   "outputs": [],
   "source": [
    "from sklearn.metrics import (accuracy_score, recall_score, precision_score, roc_curve, auc, confusion_matrix)"
   ]
  },
  {
   "cell_type": "code",
   "execution_count": 34,
   "metadata": {},
   "outputs": [],
   "source": [
    "class_0_ratio = 0.78\n",
    "class_1_ratio = 0.22\n",
    "\n",
    "num_splits = int(class_0_ratio/class_1_ratio)\n",
    "split_size = len(Y_test) // num_splits"
   ]
  },
  {
   "cell_type": "code",
   "execution_count": 35,
   "metadata": {},
   "outputs": [
    {
     "name": "stderr",
     "output_type": "stream",
     "text": [
      "c:\\python37\\lib\\site-packages\\sklearn\\base.py:451: UserWarning: X does not have valid feature names, but DecisionTreeClassifier was fitted with feature names\n",
      "  \"X does not have valid feature names, but\"\n",
      "c:\\python37\\lib\\site-packages\\sklearn\\base.py:451: UserWarning: X does not have valid feature names, but DecisionTreeClassifier was fitted with feature names\n",
      "  \"X does not have valid feature names, but\"\n",
      "c:\\python37\\lib\\site-packages\\sklearn\\base.py:451: UserWarning: X does not have valid feature names, but DecisionTreeClassifier was fitted with feature names\n",
      "  \"X does not have valid feature names, but\"\n"
     ]
    },
    {
     "name": "stdout",
     "output_type": "stream",
     "text": [
      "Average Accuracy clf: 0.8865401563158569\n",
      "Average Recall clf: 0.8198339087396613\n",
      "Average Precision clf: 0.9449611420304077\n"
     ]
    }
   ],
   "source": [
    "avg_accuracy_clf = 0\n",
    "avg_recall_clf = 0\n",
    "avg_precision_clf = 0\n",
    "\n",
    "for i in range(num_splits):\n",
    "    start_idx = i * split_size\n",
    "    end_idx = (i + 1) * split_size\n",
    "\n",
    "    # Create a smaller test set by combining class 0 instances with class 1 instances\n",
    "    smaller_X_test = np.vstack([X_test[start_idx:end_idx], X_test[Y_test == 1]])\n",
    "    smaller_Y_test = np.hstack([Y_test[start_idx:end_idx], Y_test[Y_test == 1]])\n",
    "\n",
    "    # Make predictions on the smaller test set\n",
    "    predictions_clf = clf.predict(smaller_X_test)\n",
    "\n",
    "    # Calculate accuracy, recall, and precision\n",
    "    accuracy_clf = accuracy_score(smaller_Y_test, predictions_clf)\n",
    "    recall_clf = recall_score(smaller_Y_test, predictions_clf)\n",
    "    precision_clf = precision_score(smaller_Y_test, predictions_clf)\n",
    "\n",
    "    # Accumulate metrics for averaging\n",
    "    avg_accuracy_clf += accuracy_clf\n",
    "    avg_recall_clf += recall_clf\n",
    "    avg_precision_clf += precision_clf\n",
    "\n",
    "# Calculate the average metrics over all smaller test sets\n",
    "avg_accuracy_clf /= num_splits\n",
    "avg_recall_clf /= num_splits\n",
    "avg_precision_clf /= num_splits\n",
    "\n",
    "# Print the average metrics\n",
    "print(\"Average Accuracy clf:\", avg_accuracy_clf)\n",
    "print(\"Average Recall clf:\", avg_recall_clf)\n",
    "print(\"Average Precision clf:\", avg_precision_clf)"
   ]
  },
  {
   "cell_type": "code",
   "execution_count": 36,
   "metadata": {},
   "outputs": [
    {
     "name": "stderr",
     "output_type": "stream",
     "text": [
      "c:\\python37\\lib\\site-packages\\sklearn\\base.py:451: UserWarning: X does not have valid feature names, but AdaBoostClassifier was fitted with feature names\n",
      "  \"X does not have valid feature names, but\"\n",
      "c:\\python37\\lib\\site-packages\\sklearn\\base.py:451: UserWarning: X does not have valid feature names, but AdaBoostClassifier was fitted with feature names\n",
      "  \"X does not have valid feature names, but\"\n",
      "c:\\python37\\lib\\site-packages\\sklearn\\base.py:451: UserWarning: X does not have valid feature names, but AdaBoostClassifier was fitted with feature names\n",
      "  \"X does not have valid feature names, but\"\n"
     ]
    },
    {
     "name": "stdout",
     "output_type": "stream",
     "text": [
      "Average Accuracy ada: 0.9175530462189156\n",
      "Average Recall ada: 0.9027423803925952\n",
      "Average Precision ada: 0.9296047572479393\n"
     ]
    }
   ],
   "source": [
    "avg_accuracy_ada = 0\n",
    "avg_recall_ada = 0\n",
    "avg_precision_ada = 0\n",
    "\n",
    "for i in range(num_splits):\n",
    "    start_idx = i * split_size\n",
    "    end_idx = (i + 1) * split_size\n",
    "\n",
    "    # Create a smaller test set by combining class 0 instances with class 1 instances\n",
    "    smaller_X_test = np.vstack([X_test[start_idx:end_idx], X_test[Y_test == 1]])\n",
    "    smaller_Y_test = np.hstack([Y_test[start_idx:end_idx], Y_test[Y_test == 1]])\n",
    "\n",
    "    # Make predictions on the smaller test set\n",
    "    predictions_ada = ada.predict(smaller_X_test)\n",
    "\n",
    "    # Calculate accuracy, recall, and precision\n",
    "    accuracy_ada = accuracy_score(smaller_Y_test, predictions_ada)\n",
    "    recall_ada = recall_score(smaller_Y_test, predictions_ada)\n",
    "    precision_ada = precision_score(smaller_Y_test, predictions_ada)\n",
    "\n",
    "    # Accumulate metrics for averaging\n",
    "    avg_accuracy_ada += accuracy_ada\n",
    "    avg_recall_ada += recall_ada\n",
    "    avg_precision_ada += precision_ada\n",
    "\n",
    "# Calculate the average metrics over all smaller test sets\n",
    "avg_accuracy_ada /= num_splits\n",
    "avg_recall_ada /= num_splits\n",
    "avg_precision_ada /= num_splits\n",
    "\n",
    "# Print the average metrics\n",
    "print(\"Average Accuracy ada:\", avg_accuracy_ada)\n",
    "print(\"Average Recall ada:\", avg_recall_ada)\n",
    "print(\"Average Precision ada:\", avg_precision_ada)"
   ]
  },
  {
   "cell_type": "code",
   "execution_count": 37,
   "metadata": {},
   "outputs": [
    {
     "name": "stderr",
     "output_type": "stream",
     "text": [
      "c:\\python37\\lib\\site-packages\\sklearn\\base.py:451: UserWarning: X does not have valid feature names, but GradientBoostingClassifier was fitted with feature names\n",
      "  \"X does not have valid feature names, but\"\n",
      "c:\\python37\\lib\\site-packages\\sklearn\\base.py:451: UserWarning: X does not have valid feature names, but GradientBoostingClassifier was fitted with feature names\n",
      "  \"X does not have valid feature names, but\"\n",
      "c:\\python37\\lib\\site-packages\\sklearn\\base.py:451: UserWarning: X does not have valid feature names, but GradientBoostingClassifier was fitted with feature names\n",
      "  \"X does not have valid feature names, but\"\n"
     ]
    },
    {
     "name": "stdout",
     "output_type": "stream",
     "text": [
      "Average Accuracy gb: 0.9154248385195403\n",
      "Average Recall gb: 0.8805618513777599\n",
      "Average Precision gb: 0.9458058873570891\n"
     ]
    }
   ],
   "source": [
    "avg_accuracy_gb = 0\n",
    "avg_recall_gb = 0\n",
    "avg_precision_gb = 0\n",
    "\n",
    "for i in range(num_splits):\n",
    "    start_idx = i * split_size\n",
    "    end_idx = (i + 1) * split_size\n",
    "\n",
    "    # Create a smaller test set by combining class 0 instances with class 1 instances\n",
    "    smaller_X_test = np.vstack([X_test[start_idx:end_idx], X_test[Y_test == 1]])\n",
    "    smaller_Y_test = np.hstack([Y_test[start_idx:end_idx], Y_test[Y_test == 1]])\n",
    "\n",
    "    # Make predictions on the smaller test set\n",
    "    predictions_gb = gb.predict(smaller_X_test)\n",
    "\n",
    "    # Calculate accuracy, recall, and precision\n",
    "    accuracy_gb = accuracy_score(smaller_Y_test, predictions_gb)\n",
    "    recall_gb = recall_score(smaller_Y_test, predictions_gb)\n",
    "    precision_gb = precision_score(smaller_Y_test, predictions_gb)\n",
    "\n",
    "    # Accumulate metrics for averaging\n",
    "    avg_accuracy_gb += accuracy_gb\n",
    "    avg_recall_gb += recall_gb\n",
    "    avg_precision_gb += precision_gb\n",
    "\n",
    "# Calculate the average metrics over all smaller test sets\n",
    "avg_accuracy_gb /= num_splits\n",
    "avg_recall_gb /= num_splits\n",
    "avg_precision_gb /= num_splits\n",
    "\n",
    "# Print the average metrics\n",
    "print(\"Average Accuracy gb:\", avg_accuracy_gb)\n",
    "print(\"Average Recall gb:\", avg_recall_gb)\n",
    "print(\"Average Precision gb:\", avg_precision_gb)"
   ]
  },
  {
   "cell_type": "code",
   "execution_count": 38,
   "metadata": {},
   "outputs": [
    {
     "name": "stderr",
     "output_type": "stream",
     "text": [
      "c:\\python37\\lib\\site-packages\\sklearn\\base.py:451: UserWarning: X does not have valid feature names, but RandomForestClassifier was fitted with feature names\n",
      "  \"X does not have valid feature names, but\"\n",
      "c:\\python37\\lib\\site-packages\\sklearn\\base.py:451: UserWarning: X does not have valid feature names, but RandomForestClassifier was fitted with feature names\n",
      "  \"X does not have valid feature names, but\"\n",
      "c:\\python37\\lib\\site-packages\\sklearn\\base.py:451: UserWarning: X does not have valid feature names, but RandomForestClassifier was fitted with feature names\n",
      "  \"X does not have valid feature names, but\"\n"
     ]
    },
    {
     "name": "stdout",
     "output_type": "stream",
     "text": [
      "Average Accuracy rf: 0.9131759739576837\n",
      "Average Recall rf: 0.8530229163336674\n",
      "Average Precision rf: 0.968841105100152\n"
     ]
    }
   ],
   "source": [
    "avg_accuracy_rf = 0\n",
    "avg_recall_rf = 0\n",
    "avg_precision_rf = 0\n",
    "\n",
    "for i in range(num_splits):\n",
    "    start_idx = i * split_size\n",
    "    end_idx = (i + 1) * split_size\n",
    "\n",
    "    # Create a smaller test set by combining class 0 instances with class 1 instances\n",
    "    smaller_X_test = np.vstack([X_test[start_idx:end_idx], X_test[Y_test == 1]])\n",
    "    smaller_Y_test = np.hstack([Y_test[start_idx:end_idx], Y_test[Y_test == 1]])\n",
    "\n",
    "    # Make predictions on the smaller test set\n",
    "    predictions_rf = rf.predict(smaller_X_test)\n",
    "\n",
    "    # Calculate accuracy, recall, and precision\n",
    "    accuracy_rf = accuracy_score(smaller_Y_test, predictions_rf)\n",
    "    recall_rf = recall_score(smaller_Y_test, predictions_rf)\n",
    "    precision_rf = precision_score(smaller_Y_test, predictions_rf)\n",
    "\n",
    "    # Accumulate metrics for averaging\n",
    "    avg_accuracy_rf += accuracy_rf\n",
    "    avg_recall_rf += recall_rf\n",
    "    avg_precision_rf += precision_rf\n",
    "\n",
    "# Calculate the average metrics over all smaller test sets\n",
    "avg_accuracy_rf /= num_splits\n",
    "avg_recall_rf /= num_splits\n",
    "avg_precision_rf /= num_splits\n",
    "\n",
    "# Print the average metrics\n",
    "print(\"Average Accuracy rf:\", avg_accuracy_rf)\n",
    "print(\"Average Recall rf:\", avg_recall_rf)\n",
    "print(\"Average Precision rf:\", avg_precision_rf)"
   ]
  },
  {
   "cell_type": "code",
   "execution_count": 39,
   "metadata": {},
   "outputs": [],
   "source": [
    "models = ['clf', 'ada', 'gb', 'rf']\n",
    "avg_accuracies = [avg_accuracy_clf, avg_accuracy_ada, avg_accuracy_gb, avg_accuracy_rf]\n",
    "predictions = [predictions_clf, predictions_ada, predictions_gb, predictions_rf]"
   ]
  },
  {
   "cell_type": "code",
   "execution_count": 40,
   "metadata": {},
   "outputs": [
    {
     "data": {
      "image/png": "[encoded data removed]",
      "text/plain": [
       "<Figure size 1000x800 with 1 Axes>"
      ]
     },
     "metadata": {},
     "output_type": "display_data"
    }
   ],
   "source": [
    "plt.figure(figsize=(10, 8))\n",
    "\n",
    "for i, model in enumerate(models):\n",
    "    fpr, tpr, _ = roc_curve(smaller_Y_test, predictions[i])\n",
    "    roc_auc = auc(fpr, tpr)\n",
    "    plt.plot(fpr, tpr, label=f'{model} (AUC = {roc_auc:.2f})')\n",
    "\n",
    "plt.plot([0, 1], [0, 1], color='navy', lw=2, linestyle='--')\n",
    "plt.xlim([0.0, 1.0])\n",
    "plt.ylim([0.0, 1.05])\n",
    "plt.xlabel('False Positive Rate')\n",
    "plt.ylabel('True Positive Rate')\n",
    "plt.title('Receiver Operating Characteristic')\n",
    "plt.legend(loc=\"lower right\")\n",
    "plt.show()"
   ]
  },
  {
   "cell_type": "code",
   "execution_count": 41,
   "metadata": {},
   "outputs": [
    {
     "data": {
      "image/png": "[encoded data removed]",
      "text/plain": [
       "<Figure size 1500x1000 with 8 Axes>"
      ]
     },
     "metadata": {},
     "output_type": "display_data"
    }
   ],
   "source": [
    "plt.figure(figsize=(15, 10))\n",
    "\n",
    "for i, model in enumerate(models):\n",
    "    plt.subplot(2, 2, i + 1)\n",
    "    cm = confusion_matrix(smaller_Y_test, predictions[i])\n",
    "    plt.imshow(cm, interpolation='nearest', cmap=plt.cm.Blues)\n",
    "    plt.title(f\"Confusion Matrix - {model}\")\n",
    "    plt.colorbar()\n",
    "    tick_marks = np.arange(2)\n",
    "    plt.xticks(tick_marks, [\"Class 0\", \"Class 1\"])\n",
    "    plt.yticks(tick_marks, [\"Class 0\", \"Class 1\"])\n",
    "    plt.xlabel(\"Predicted Label\")\n",
    "    plt.ylabel(\"True Label\")\n",
    "\n",
    "    for i in range(2):\n",
    "        for j in range(2):\n",
    "            plt.text(j, i, str(cm[i, j]), horizontalalignment=\"center\", color=\"white\" if cm[i, j] > cm.max() / 2 else \"black\")\n",
    "\n",
    "plt.tight_layout()\n",
    "plt.show()"
   ]
  },
  {
   "cell_type": "code",
   "execution_count": 42,
   "metadata": {},
   "outputs": [
    {
     "name": "stdout",
     "output_type": "stream",
     "text": [
      "+---------+--------------------+---------------------+------------------+\n",
      "| Model   |   Average Accuracy |   Average Precision |   Average Recall |\n",
      "+=========+====================+=====================+==================+\n",
      "| clf     |           0.88654  |            0.944961 |         0.819834 |\n",
      "+---------+--------------------+---------------------+------------------+\n",
      "| ada     |           0.917553 |            0.929605 |         0.902742 |\n",
      "+---------+--------------------+---------------------+------------------+\n",
      "| gb      |           0.915425 |            0.945806 |         0.880562 |\n",
      "+---------+--------------------+---------------------+------------------+\n",
      "| rf      |           0.913176 |            0.968841 |         0.853023 |\n",
      "+---------+--------------------+---------------------+------------------+\n"
     ]
    }
   ],
   "source": [
    "from tabulate import tabulate\n",
    "\n",
    "# Assuming you already have the average metrics calculated and stored in lists like this:\n",
    "models = ['clf', 'ada', 'gb', 'rf']\n",
    "avg_accuracies = [avg_accuracy_clf, avg_accuracy_ada, avg_accuracy_gb, avg_accuracy_rf]\n",
    "avg_precisions = [avg_precision_clf, avg_precision_ada, avg_precision_gb, avg_precision_rf]\n",
    "avg_recalls = [avg_recall_clf, avg_recall_ada, avg_recall_gb, avg_recall_rf]\n",
    "\n",
    "# Prepare the data for the table\n",
    "table_data = []\n",
    "for model, acc, prec, rec in zip(models, avg_accuracies, avg_precisions, avg_recalls):\n",
    "    table_data.append([model, acc, prec, rec])\n",
    "\n",
    "# Define headers for the table\n",
    "headers = [\"Model\", \"Average Accuracy\", \"Average Precision\", \"Average Recall\"]\n",
    "\n",
    "# Print the table\n",
    "table = tabulate(table_data, headers, tablefmt=\"grid\")\n",
    "print(table)\n"
   ]
  }
 ],
 "metadata": {
  "kernelspec": {
   "display_name": "Python 3",
   "language": "python",
   "name": "python3"
  },
  "language_info": {
   "codemirror_mode": {
    "name": "ipython",
    "version": 3
   },
   "file_extension": ".py",
   "mimetype": "text/x-python",
   "name": "python",
   "nbconvert_exporter": "python",
   "pygments_lexer": "ipython3",
   "version": "3.7.8"
  },
  "orig_nbformat": 4
 },
 "nbformat": 4,
 "nbformat_minor": 2
}
