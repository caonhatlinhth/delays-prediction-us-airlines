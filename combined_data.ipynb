{
 "cells": [
  {
   "cell_type": "code",
   "execution_count": null,
   "metadata": {},
   "outputs": [],
   "source": [
    "import os\n",
    "import pandas as pd\n",
    "\n",
    "# Get the current working directory (folder containing the ipynb file)\n",
    "data_folder_path = os.getcwd()\n",
    "combined_folder_path = \"combined_data\"\n",
    "\n",
    "# Create the new folder if it doesn't exist\n",
    "if not os.path.exists(combined_folder_path):\n",
    "    os.makedirs(combined_folder_path)\n",
    "\n",
    "# List all the files in the data folder\n",
    "files_in_data_folder = os.listdir(data_folder_path)\n",
    "\n",
    "# Initialize an empty DataFrame to store the combined data\n",
    "combined_df = pd.DataFrame()\n",
    "\n",
    "# Iterate over the files\n",
    "for file_name in files_in_data_folder:\n",
    "    if file_name.endswith('.csv'):\n",
    "        # Extract the year from the file name\n",
    "        year = int(file_name.split('_')[0])\n",
    "        \n",
    "        # Read the file into a DataFrame\n",
    "        file_path = os.path.join(data_folder_path, file_name)\n",
    "        df = pd.read_csv(file_path)\n",
    "        \n",
    "        # Add a 'Year' column to the DataFrame and set it to the extracted year\n",
    "        df['Year'] = year\n",
    "        \n",
    "        # Concatenate the DataFrame to the combined DataFrame\n",
    "        combined_df = pd.concat([combined_df, df])\n",
    "\n",
    "# Save each combined DataFrame to a new CSV file in the combined folder\n",
    "for year, year_df in combined_df.groupby('Year'):\n",
    "    year_combined_file_path = os.path.join(combined_folder_path, f\"{year}_combined_data.csv\")\n",
    "    year_df.to_csv(year_combined_file_path, index=False)\n",
    "    print(f\"Combined data for {year} saved to {year_combined_file_path}.\")\n"
   ]
  }
 ],
 "metadata": {
  "kernelspec": {
   "display_name": "Python 3",
   "language": "python",
   "name": "python3"
  },
  "language_info": {
   "codemirror_mode": {
    "name": "ipython",
    "version": 3
   },
   "file_extension": ".py",
   "mimetype": "text/x-python",
   "name": "python",
   "nbconvert_exporter": "python",
   "pygments_lexer": "ipython3",
   "version": "3.7.8"
  },
  "orig_nbformat": 4
 },
 "nbformat": 4,
 "nbformat_minor": 2
}
